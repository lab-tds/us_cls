{
 "cells": [
  {
   "cell_type": "markdown",
   "metadata": {},
   "source": [
    "# Training machine learning models"
   ]
  },
  {
   "cell_type": "markdown",
   "metadata": {},
   "source": [
    "## Loading training and validation datasets"
   ]
  },
  {
   "cell_type": "code",
   "execution_count": 7,
   "metadata": {},
   "outputs": [
    {
     "data": {
      "text/plain": [
       "birads\n",
       "4a    407\n",
       "5     225\n",
       "4b    204\n",
       "4c    184\n",
       "3      44\n",
       "6      18\n",
       "Name: count, dtype: int64"
      ]
     },
     "execution_count": 7,
     "metadata": {},
     "output_type": "execute_result"
    }
   ],
   "source": [
    "from pathlib import Path\n",
    "\n",
    "import pandas as pd\n",
    "from sklearn.model_selection import train_test_split\n",
    "\n",
    "ROOT = Path(\"__file__\").resolve().parent\n",
    "DATA = ROOT / 'data'\n",
    "MODELS = ROOT / 'models'\n",
    "TRAIN_AND_VAL_DS = DATA / 'US_2023_JUL_25_complete_cases_reviewd.csv'\n",
    "TEST_DS = DATA / 'US_2023_AGO_01_all_cases_validationset.csv'\n",
    "\n",
    "train_and_val_ds = pd.read_csv(TRAIN_AND_VAL_DS)\n",
    "test_ds = pd.read_csv(TEST_DS)\n",
    "\n",
    "retrospective = train_and_val_ds['study'] == 'retrospective'\n",
    "prospective = train_and_val_ds['study'] == 'prospective'\n",
    "birads_4a = train_and_val_ds['birads'] == '4a'\n",
    "birads_4b = train_and_val_ds['birads'] == '4b'\n",
    "prospective_4ab = prospective & (birads_4a | birads_4b)\n",
    "\n",
    "extra4_ds, val_ds = train_test_split(train_and_val_ds[prospective_4ab], train_size=0.2, random_state=7)\n",
    "\n",
    "train_ds = pd.concat([train_and_val_ds[retrospective], extra4_ds])\n",
    "\n",
    "train_ds['birads'].value_counts()"
   ]
  },
  {
   "cell_type": "code",
   "execution_count": 8,
   "metadata": {},
   "outputs": [
    {
     "data": {
      "text/plain": [
       "birads\n",
       "4a    170\n",
       "4b     62\n",
       "Name: count, dtype: int64"
      ]
     },
     "execution_count": 8,
     "metadata": {},
     "output_type": "execute_result"
    }
   ],
   "source": [
    "val_ds['birads'].value_counts()"
   ]
  },
  {
   "cell_type": "code",
   "execution_count": 9,
   "metadata": {},
   "outputs": [
    {
     "data": {
      "text/plain": [
       "birads\n",
       "4A    130\n",
       "5      88\n",
       "4C     71\n",
       "6      55\n",
       "4B     55\n",
       "3       4\n",
       "Name: count, dtype: int64"
      ]
     },
     "execution_count": 9,
     "metadata": {},
     "output_type": "execute_result"
    }
   ],
   "source": [
    "test_ds['birads'].value_counts()"
   ]
  },
  {
   "cell_type": "code",
   "execution_count": 10,
   "metadata": {},
   "outputs": [],
   "source": [
    "X_train = train_ds.drop(columns=['birads', 'result', 'study'])\n",
    "y_train = train_ds['result']\n",
    "\n",
    "X_val = val_ds.drop(columns=['birads', 'result', 'study'])\n",
    "y_val = val_ds['result']\n",
    "\n",
    "X_test = test_ds.drop(columns=['pt_id', 'img_id', 'birads', 'result', 'study'])\n",
    "y_test = test_ds['result']"
   ]
  },
  {
   "cell_type": "markdown",
   "metadata": {},
   "source": [
    "## Hyperparameter tuning"
   ]
  },
  {
   "cell_type": "code",
   "execution_count": null,
   "metadata": {},
   "outputs": [],
   "source": [
    "from joblib import dump\n",
    "\n",
    "from sklearn.model_selection import GridSearchCV, RandomizedSearchCV\n",
    "from .models import pipelines, param_grids\n",
    "\n",
    "best_clfs = {}\n",
    "\n",
    "for name, pipe in pipelines.items():\n",
    "    clf = None\n",
    "    if name == 'XB' or name == 'RF':\n",
    "        clf = RandomizedSearchCV(pipe,\n",
    "                                 param_distributions=param_grids[name],\n",
    "                                 n_iter=5,\n",
    "                                 scoring='accuracy',\n",
    "                                 n_jobs=4,\n",
    "                                 cv=10,\n",
    "                                 verbose=3)\n",
    "    else:\n",
    "        clf = GridSearchCV(pipe,\n",
    "                           param_grid=param_grids[name],\n",
    "                           scoring='accuracy',\n",
    "                           cv=10)\n",
    "    clf.fit(X_train, y_train)\n",
    "    best_clfs[name] = (clf.best_params_, clf.score(X_train, y_train))\n",
    "\n",
    "dump(best_clfs, MODELS / 'res_hyperparameter_tuning.joblib')"
   ]
  },
  {
   "cell_type": "markdown",
   "metadata": {},
   "source": [
    "## Selecting between the different models"
   ]
  },
  {
   "cell_type": "code",
   "execution_count": 11,
   "metadata": {},
   "outputs": [
    {
     "name": "stdout",
     "output_type": "stream",
     "text": [
      "Fitting SVM\n",
      "Fitting RF\n",
      "Fitting LR\n",
      "Fitting DT\n",
      "Fitting AB\n",
      "Fitting XB\n"
     ]
    },
    {
     "name": "stderr",
     "output_type": "stream",
     "text": [
      "/home/alek/.local/lib/python3.10/site-packages/xgboost/data.py:520: FutureWarning: is_sparse is deprecated and will be removed in a future version. Check `isinstance(dtype, pd.SparseDtype)` instead.\n",
      "  if is_sparse(data):\n"
     ]
    },
    {
     "name": "stdout",
     "output_type": "stream",
     "text": [
      "Fitting KN\n",
      "Fitting MLP\n",
      "Fitting GB\n"
     ]
    },
    {
     "name": "stderr",
     "output_type": "stream",
     "text": [
      "/home/alek/.local/lib/python3.10/site-packages/sklearn/neural_network/_multilayer_perceptron.py:691: ConvergenceWarning: Stochastic Optimizer: Maximum iterations (200) reached and the optimization hasn't converged yet.\n",
      "  warnings.warn(\n"
     ]
    }
   ],
   "source": [
    "from joblib import load\n",
    "\n",
    "# best_clfs = load(MODELS / 'res_hyperparameter_tuning.joblib')\n",
    "\n",
    "# temporary:\n",
    "import pickle\n",
    "from sklearn.pipeline import Pipeline\n",
    "from models import ct, models\n",
    "\n",
    "best_params = None\n",
    "with open(MODELS / 'grid_search_dictionary_all_2023_5_24.pkl', 'rb') as f:\n",
    "    best_params = pickle.load(f)\n",
    "\n",
    "pipelines = {name: Pipeline([\n",
    "    ('ct', ct),\n",
    "    (name, model(**best_params[name][0][0]))\n",
    "]) for name, model in models.items()}\n",
    "\n",
    "for name, model in pipelines.items():\n",
    "    print('Fitting {}'.format(name))\n",
    "    model.fit(X_train, y_train)"
   ]
  },
  {
   "cell_type": "code",
   "execution_count": 12,
   "metadata": {},
   "outputs": [
    {
     "data": {
      "text/html": [
       "<div>\n",
       "<style scoped>\n",
       "    .dataframe tbody tr th:only-of-type {\n",
       "        vertical-align: middle;\n",
       "    }\n",
       "\n",
       "    .dataframe tbody tr th {\n",
       "        vertical-align: top;\n",
       "    }\n",
       "\n",
       "    .dataframe thead th {\n",
       "        text-align: right;\n",
       "    }\n",
       "</style>\n",
       "<table border=\"1\" class=\"dataframe\">\n",
       "  <thead>\n",
       "    <tr style=\"text-align: right;\">\n",
       "      <th></th>\n",
       "      <th>npv</th>\n",
       "      <th>sens</th>\n",
       "      <th>spec</th>\n",
       "      <th>ppv</th>\n",
       "      <th>acc</th>\n",
       "      <th>f1</th>\n",
       "    </tr>\n",
       "  </thead>\n",
       "  <tbody>\n",
       "    <tr>\n",
       "      <th>DT</th>\n",
       "      <td>0.970149</td>\n",
       "      <td>0.666667</td>\n",
       "      <td>0.911215</td>\n",
       "      <td>0.387097</td>\n",
       "      <td>0.892241</td>\n",
       "      <td>0.489796</td>\n",
       "    </tr>\n",
       "    <tr>\n",
       "      <th>XB</th>\n",
       "      <td>0.969388</td>\n",
       "      <td>0.666667</td>\n",
       "      <td>0.88785</td>\n",
       "      <td>0.333333</td>\n",
       "      <td>0.87069</td>\n",
       "      <td>0.444444</td>\n",
       "    </tr>\n",
       "    <tr>\n",
       "      <th>RF</th>\n",
       "      <td>0.969231</td>\n",
       "      <td>0.666667</td>\n",
       "      <td>0.883178</td>\n",
       "      <td>0.324324</td>\n",
       "      <td>0.866379</td>\n",
       "      <td>0.436364</td>\n",
       "    </tr>\n",
       "    <tr>\n",
       "      <th>AB</th>\n",
       "      <td>0.968912</td>\n",
       "      <td>0.666667</td>\n",
       "      <td>0.873832</td>\n",
       "      <td>0.307692</td>\n",
       "      <td>0.857759</td>\n",
       "      <td>0.421053</td>\n",
       "    </tr>\n",
       "    <tr>\n",
       "      <th>SVM</th>\n",
       "      <td>0.968586</td>\n",
       "      <td>0.666667</td>\n",
       "      <td>0.864486</td>\n",
       "      <td>0.292683</td>\n",
       "      <td>0.849138</td>\n",
       "      <td>0.40678</td>\n",
       "    </tr>\n",
       "    <tr>\n",
       "      <th>KN</th>\n",
       "      <td>0.967742</td>\n",
       "      <td>0.666667</td>\n",
       "      <td>0.841121</td>\n",
       "      <td>0.26087</td>\n",
       "      <td>0.827586</td>\n",
       "      <td>0.375</td>\n",
       "    </tr>\n",
       "    <tr>\n",
       "      <th>MLP</th>\n",
       "      <td>0.965686</td>\n",
       "      <td>0.611111</td>\n",
       "      <td>0.920561</td>\n",
       "      <td>0.392857</td>\n",
       "      <td>0.896552</td>\n",
       "      <td>0.478261</td>\n",
       "    </tr>\n",
       "    <tr>\n",
       "      <th>GB</th>\n",
       "      <td>0.963918</td>\n",
       "      <td>0.611111</td>\n",
       "      <td>0.873832</td>\n",
       "      <td>0.289474</td>\n",
       "      <td>0.853448</td>\n",
       "      <td>0.392857</td>\n",
       "    </tr>\n",
       "    <tr>\n",
       "      <th>LR</th>\n",
       "      <td>0.963542</td>\n",
       "      <td>0.611111</td>\n",
       "      <td>0.864486</td>\n",
       "      <td>0.275</td>\n",
       "      <td>0.844828</td>\n",
       "      <td>0.37931</td>\n",
       "    </tr>\n",
       "  </tbody>\n",
       "</table>\n",
       "</div>"
      ],
      "text/plain": [
       "          npv      sens      spec       ppv       acc        f1\n",
       "DT   0.970149  0.666667  0.911215  0.387097  0.892241  0.489796\n",
       "XB   0.969388  0.666667   0.88785  0.333333   0.87069  0.444444\n",
       "RF   0.969231  0.666667  0.883178  0.324324  0.866379  0.436364\n",
       "AB   0.968912  0.666667  0.873832  0.307692  0.857759  0.421053\n",
       "SVM  0.968586  0.666667  0.864486  0.292683  0.849138   0.40678\n",
       "KN   0.967742  0.666667  0.841121   0.26087  0.827586     0.375\n",
       "MLP  0.965686  0.611111  0.920561  0.392857  0.896552  0.478261\n",
       "GB   0.963918  0.611111  0.873832  0.289474  0.853448  0.392857\n",
       "LR   0.963542  0.611111  0.864486     0.275  0.844828   0.37931"
      ]
     },
     "execution_count": 12,
     "metadata": {},
     "output_type": "execute_result"
    }
   ],
   "source": [
    "from sklearn.metrics import classification_report\n",
    "\n",
    "clf_df = pd.DataFrame(\n",
    "    columns=['npv', 'sens', 'spec', 'ppv', 'acc', 'f1'], index=pipelines.keys())\n",
    "\n",
    "for name, model in pipelines.items():\n",
    "    report = classification_report(y_val,\n",
    "                                   model.predict(X_val),\n",
    "                                   labels=[1, 0],\n",
    "                                   output_dict=True)\n",
    "    clf_df.loc[name] = {\n",
    "        'npv' : report['0']['precision'],\n",
    "        'sens': report['1']['recall'],\n",
    "        'spec': report['0']['recall'],\n",
    "        'ppv' : report['1']['precision'],\n",
    "        'acc' : report['accuracy'],\n",
    "        'f1'  : report['1']['f1-score'],\n",
    "    }\n",
    "\n",
    "clf_df.sort_values('npv', ascending=False)"
   ]
  }
 ],
 "metadata": {
  "interpreter": {
   "hash": "e7370f93d1d0cde622a1f8e1c04877d8463912d04d973331ad4851f04de6915a"
  },
  "kernelspec": {
   "display_name": "Python 3.10.11 64-bit",
   "language": "python",
   "name": "python3"
  },
  "language_info": {
   "codemirror_mode": {
    "name": "ipython",
    "version": 3
   },
   "file_extension": ".py",
   "mimetype": "text/x-python",
   "name": "python",
   "nbconvert_exporter": "python",
   "pygments_lexer": "ipython3",
   "version": "3.10.11"
  },
  "orig_nbformat": 4
 },
 "nbformat": 4,
 "nbformat_minor": 2
}

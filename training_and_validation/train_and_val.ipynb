{
 "cells": [
  {
   "cell_type": "markdown",
   "metadata": {},
   "source": [
    "# Training machine learning models"
   ]
  },
  {
   "cell_type": "markdown",
   "metadata": {},
   "source": [
    "## Loading training, validation, and test datasets"
   ]
  },
  {
   "cell_type": "code",
   "execution_count": 1,
   "metadata": {},
   "outputs": [
    {
     "name": "stdout",
     "output_type": "stream",
     "text": [
      "(1236, 11)\n"
     ]
    },
    {
     "data": {
      "text/plain": [
       "birads\n",
       "4a    357\n",
       "5     308\n",
       "4c    257\n",
       "4b    196\n",
       "3      63\n",
       "6      55\n",
       "Name: count, dtype: int64"
      ]
     },
     "execution_count": 1,
     "metadata": {},
     "output_type": "execute_result"
    }
   ],
   "source": [
    "from pathlib import Path\n",
    "\n",
    "import pandas as pd\n",
    "\n",
    "ROOT = Path(\"__file__\").resolve().parent\n",
    "DATA = ROOT / 'data'\n",
    "MODELS = ROOT / 'models'\n",
    "TRAIN_AND_VAL_DS = DATA / 'US_2023_JUL_25_complete_cases_reviewd.csv'\n",
    "TEST_DS = DATA / 'US_2023_AGO_01_all_cases_validationset.csv'\n",
    "\n",
    "train_and_val_ds = pd.read_csv(TRAIN_AND_VAL_DS)\n",
    "test_ds = pd.read_csv(TEST_DS)\n",
    "\n",
    "retrospective = train_and_val_ds['study'] == 'retrospective'\n",
    "prospective = train_and_val_ds['study'] == 'prospective'\n",
    "birads_4a = train_and_val_ds['birads'] == '4a'\n",
    "birads_4b = train_and_val_ds['birads'] == '4b'\n",
    "prospective_4ab = prospective & (birads_4a | birads_4b)\n",
    "prospective_other = prospective & (~birads_4a & ~birads_4b)\n",
    "\n",
    "train_ds = train_and_val_ds[retrospective | prospective_other]\n",
    "val_ds = train_and_val_ds[prospective_4ab]\n",
    "\n",
    "print(train_ds.shape)\n",
    "train_ds['birads'].value_counts()"
   ]
  },
  {
   "cell_type": "code",
   "execution_count": 2,
   "metadata": {},
   "outputs": [
    {
     "name": "stdout",
     "output_type": "stream",
     "text": [
      "(290, 11)\n"
     ]
    },
    {
     "data": {
      "text/plain": [
       "birads\n",
       "4a    220\n",
       "4b     70\n",
       "Name: count, dtype: int64"
      ]
     },
     "execution_count": 2,
     "metadata": {},
     "output_type": "execute_result"
    }
   ],
   "source": [
    "print(val_ds.shape)\n",
    "val_ds['birads'].value_counts()"
   ]
  },
  {
   "cell_type": "code",
   "execution_count": 3,
   "metadata": {},
   "outputs": [
    {
     "name": "stdout",
     "output_type": "stream",
     "text": [
      "(403, 13)\n"
     ]
    },
    {
     "data": {
      "text/plain": [
       "birads\n",
       "4A    130\n",
       "5      88\n",
       "4C     71\n",
       "6      55\n",
       "4B     55\n",
       "3       4\n",
       "Name: count, dtype: int64"
      ]
     },
     "execution_count": 3,
     "metadata": {},
     "output_type": "execute_result"
    }
   ],
   "source": [
    "print(test_ds.shape)\n",
    "test_ds['birads'].value_counts()"
   ]
  },
  {
   "cell_type": "code",
   "execution_count": 4,
   "metadata": {},
   "outputs": [],
   "source": [
    "X_train = train_ds.drop(columns=['birads', 'result', 'study'])\n",
    "y_train = train_ds['result']\n",
    "\n",
    "X_val = val_ds.drop(columns=['birads', 'result', 'study'])\n",
    "y_val = val_ds['result']\n",
    "\n",
    "X_test = test_ds.drop(columns=['pt_id', 'img_id', 'birads', 'result', 'study'])\n",
    "y_test = test_ds['result']"
   ]
  },
  {
   "cell_type": "markdown",
   "metadata": {},
   "source": [
    "## Loading best parameters"
   ]
  },
  {
   "cell_type": "code",
   "execution_count": 5,
   "metadata": {},
   "outputs": [
    {
     "name": "stdout",
     "output_type": "stream",
     "text": [
      "Fitting SVM\n",
      "Fitting RF\n",
      "Fitting LR\n",
      "Fitting DT\n",
      "Fitting AB\n",
      "Fitting XB\n"
     ]
    },
    {
     "name": "stderr",
     "output_type": "stream",
     "text": [
      "/home/alek/.local/lib/python3.10/site-packages/xgboost/data.py:520: FutureWarning: is_sparse is deprecated and will be removed in a future version. Check `isinstance(dtype, pd.SparseDtype)` instead.\n",
      "  if is_sparse(data):\n"
     ]
    },
    {
     "name": "stdout",
     "output_type": "stream",
     "text": [
      "Fitting KN\n",
      "Fitting MLP\n",
      "Fitting GB\n"
     ]
    },
    {
     "name": "stderr",
     "output_type": "stream",
     "text": [
      "/home/alek/.local/lib/python3.10/site-packages/sklearn/neural_network/_multilayer_perceptron.py:691: ConvergenceWarning: Stochastic Optimizer: Maximum iterations (200) reached and the optimization hasn't converged yet.\n",
      "  warnings.warn(\n"
     ]
    }
   ],
   "source": [
    "import pickle\n",
    "\n",
    "from xgboost import XGBClassifier\n",
    "from sklearn.ensemble import RandomForestClassifier, AdaBoostClassifier\n",
    "from sklearn.svm import SVC\n",
    "from sklearn.linear_model import LogisticRegression\n",
    "from sklearn.tree import DecisionTreeClassifier\n",
    "from sklearn.neighbors import KNeighborsClassifier\n",
    "from sklearn.neural_network import MLPClassifier\n",
    "from sklearn.naive_bayes import GaussianNB\n",
    "\n",
    "from sklearn.pipeline import Pipeline\n",
    "from sklearn.preprocessing import StandardScaler, OneHotEncoder\n",
    "from sklearn.compose import ColumnTransformer\n",
    "\n",
    "models = {\n",
    "    'SVM': SVC,\n",
    "    'RF' : RandomForestClassifier,\n",
    "    'LR' : LogisticRegression,\n",
    "    'DT' : DecisionTreeClassifier,\n",
    "    'AB' : AdaBoostClassifier,\n",
    "    'XB' : XGBClassifier,\n",
    "    'KN' : KNeighborsClassifier,\n",
    "    'MLP': MLPClassifier,\n",
    "    'GB' : GaussianNB,\n",
    "}\n",
    "\n",
    "ct = ColumnTransformer([\n",
    "        ('scaler', StandardScaler(), ['age', 'size']),\n",
    "        ('encoder', OneHotEncoder(), ['margins']),\n",
    "    ], remainder='passthrough')\n",
    "\n",
    "best_params = None\n",
    "with open(MODELS / 'grid_search_dictionary_all_2023_5_24.pkl', 'rb') as f:\n",
    "    best_params = pickle.load(f)\n",
    "\n",
    "pipelines = {name: Pipeline([\n",
    "    ('ct', ct),\n",
    "    (name, model(**best_params[name][0][0]))\n",
    "]) for name, model in models.items()}\n",
    "\n",
    "for name, model in pipelines.items():\n",
    "    print('Fitting {}'.format(name))\n",
    "    model.fit(X_train, y_train)"
   ]
  },
  {
   "cell_type": "markdown",
   "metadata": {},
   "source": [
    "## Model comparison with bootstrap"
   ]
  },
  {
   "cell_type": "code",
   "execution_count": 6,
   "metadata": {},
   "outputs": [
    {
     "data": {
      "text/html": [
       "<div>\n",
       "<style scoped>\n",
       "    .dataframe tbody tr th:only-of-type {\n",
       "        vertical-align: middle;\n",
       "    }\n",
       "\n",
       "    .dataframe tbody tr th {\n",
       "        vertical-align: top;\n",
       "    }\n",
       "\n",
       "    .dataframe thead th {\n",
       "        text-align: right;\n",
       "    }\n",
       "</style>\n",
       "<table border=\"1\" class=\"dataframe\">\n",
       "  <thead>\n",
       "    <tr style=\"text-align: right;\">\n",
       "      <th></th>\n",
       "      <th>npv</th>\n",
       "      <th>sens</th>\n",
       "      <th>spec</th>\n",
       "      <th>ppv</th>\n",
       "      <th>acc</th>\n",
       "      <th>f1</th>\n",
       "    </tr>\n",
       "  </thead>\n",
       "  <tbody>\n",
       "    <tr>\n",
       "      <th>AB</th>\n",
       "      <td>0.973913</td>\n",
       "      <td>0.793103</td>\n",
       "      <td>0.858238</td>\n",
       "      <td>0.383333</td>\n",
       "      <td>0.851724</td>\n",
       "      <td>0.516854</td>\n",
       "    </tr>\n",
       "    <tr>\n",
       "      <th>DT</th>\n",
       "      <td>0.970443</td>\n",
       "      <td>0.793103</td>\n",
       "      <td>0.754789</td>\n",
       "      <td>0.264368</td>\n",
       "      <td>0.758621</td>\n",
       "      <td>0.396552</td>\n",
       "    </tr>\n",
       "    <tr>\n",
       "      <th>RF</th>\n",
       "      <td>0.970339</td>\n",
       "      <td>0.758621</td>\n",
       "      <td>0.877395</td>\n",
       "      <td>0.407407</td>\n",
       "      <td>0.865517</td>\n",
       "      <td>0.530120</td>\n",
       "    </tr>\n",
       "    <tr>\n",
       "      <th>XB</th>\n",
       "      <td>0.961207</td>\n",
       "      <td>0.689655</td>\n",
       "      <td>0.854406</td>\n",
       "      <td>0.344828</td>\n",
       "      <td>0.837931</td>\n",
       "      <td>0.459770</td>\n",
       "    </tr>\n",
       "    <tr>\n",
       "      <th>LR</th>\n",
       "      <td>0.960526</td>\n",
       "      <td>0.689655</td>\n",
       "      <td>0.839080</td>\n",
       "      <td>0.322581</td>\n",
       "      <td>0.824138</td>\n",
       "      <td>0.439560</td>\n",
       "    </tr>\n",
       "    <tr>\n",
       "      <th>MLP</th>\n",
       "      <td>0.959016</td>\n",
       "      <td>0.655172</td>\n",
       "      <td>0.896552</td>\n",
       "      <td>0.413043</td>\n",
       "      <td>0.872414</td>\n",
       "      <td>0.506667</td>\n",
       "    </tr>\n",
       "    <tr>\n",
       "      <th>KN</th>\n",
       "      <td>0.958333</td>\n",
       "      <td>0.655172</td>\n",
       "      <td>0.881226</td>\n",
       "      <td>0.380000</td>\n",
       "      <td>0.858621</td>\n",
       "      <td>0.481013</td>\n",
       "    </tr>\n",
       "    <tr>\n",
       "      <th>GB</th>\n",
       "      <td>0.952790</td>\n",
       "      <td>0.620690</td>\n",
       "      <td>0.850575</td>\n",
       "      <td>0.315789</td>\n",
       "      <td>0.827586</td>\n",
       "      <td>0.418605</td>\n",
       "    </tr>\n",
       "    <tr>\n",
       "      <th>SVM</th>\n",
       "      <td>0.945378</td>\n",
       "      <td>0.551724</td>\n",
       "      <td>0.862069</td>\n",
       "      <td>0.307692</td>\n",
       "      <td>0.831034</td>\n",
       "      <td>0.395062</td>\n",
       "    </tr>\n",
       "  </tbody>\n",
       "</table>\n",
       "</div>"
      ],
      "text/plain": [
       "          npv      sens      spec       ppv       acc        f1\n",
       "AB   0.973913  0.793103  0.858238  0.383333  0.851724  0.516854\n",
       "DT   0.970443  0.793103  0.754789  0.264368  0.758621  0.396552\n",
       "RF   0.970339  0.758621  0.877395  0.407407  0.865517  0.530120\n",
       "XB   0.961207  0.689655  0.854406  0.344828  0.837931  0.459770\n",
       "LR   0.960526  0.689655  0.839080  0.322581  0.824138  0.439560\n",
       "MLP  0.959016  0.655172  0.896552  0.413043  0.872414  0.506667\n",
       "KN   0.958333  0.655172  0.881226  0.380000  0.858621  0.481013\n",
       "GB   0.952790  0.620690  0.850575  0.315789  0.827586  0.418605\n",
       "SVM  0.945378  0.551724  0.862069  0.307692  0.831034  0.395062"
      ]
     },
     "execution_count": 6,
     "metadata": {},
     "output_type": "execute_result"
    }
   ],
   "source": [
    "from sklearn.metrics import classification_report\n",
    "from sklearn.utils import resample\n",
    "\n",
    "clf_df = pd.DataFrame(\n",
    "    columns=['npv', 'sens', 'spec', 'ppv', 'acc', 'f1'],\n",
    "    index=pipelines.keys()).fillna(0.0)\n",
    "\n",
    "for i in range(100):\n",
    "    re_X_val, re_y_val = resample(X_val, y_val, random_state=1)\n",
    "    for name, model in pipelines.items():\n",
    "        report = classification_report(re_y_val,\n",
    "                                    model.predict(re_X_val),\n",
    "                                    labels=[1, 0],\n",
    "                                    output_dict=True)\n",
    "\n",
    "        clf_df.loc[name] += pd.Series({\n",
    "            'npv' : report['0']['precision'],\n",
    "            'sens': report['1']['recall'],\n",
    "            'spec': report['0']['recall'],\n",
    "            'ppv' : report['1']['precision'],\n",
    "            'acc' : report['accuracy'],\n",
    "            'f1'  : report['1']['f1-score'],                \n",
    "        })\n",
    "\n",
    "# average 100 runs of bootstrap\n",
    "clf_df *= 1.0/100\n",
    "clf_df.sort_values('npv', ascending=False)"
   ]
  },
  {
   "cell_type": "markdown",
   "metadata": {},
   "source": [
    "## Threshold tunning for improved NPV\n",
    "    "
   ]
  },
  {
   "cell_type": "code",
   "execution_count": 7,
   "metadata": {},
   "outputs": [
    {
     "data": {
      "text/html": [
       "<div>\n",
       "<style scoped>\n",
       "    .dataframe tbody tr th:only-of-type {\n",
       "        vertical-align: middle;\n",
       "    }\n",
       "\n",
       "    .dataframe tbody tr th {\n",
       "        vertical-align: top;\n",
       "    }\n",
       "\n",
       "    .dataframe thead th {\n",
       "        text-align: right;\n",
       "    }\n",
       "</style>\n",
       "<table border=\"1\" class=\"dataframe\">\n",
       "  <thead>\n",
       "    <tr style=\"text-align: right;\">\n",
       "      <th></th>\n",
       "      <th>thres</th>\n",
       "    </tr>\n",
       "  </thead>\n",
       "  <tbody>\n",
       "    <tr>\n",
       "      <th>DT</th>\n",
       "      <td>1.700000e-01</td>\n",
       "    </tr>\n",
       "    <tr>\n",
       "      <th>LR</th>\n",
       "      <td>2.000000e-01</td>\n",
       "    </tr>\n",
       "    <tr>\n",
       "      <th>RF</th>\n",
       "      <td>2.800000e-01</td>\n",
       "    </tr>\n",
       "    <tr>\n",
       "      <th>SVM</th>\n",
       "      <td>1.600000e-01</td>\n",
       "    </tr>\n",
       "    <tr>\n",
       "      <th>MLP</th>\n",
       "      <td>2.800000e-01</td>\n",
       "    </tr>\n",
       "    <tr>\n",
       "      <th>KN</th>\n",
       "      <td>3.200000e-01</td>\n",
       "    </tr>\n",
       "    <tr>\n",
       "      <th>GB</th>\n",
       "      <td>-3.087808e-16</td>\n",
       "    </tr>\n",
       "    <tr>\n",
       "      <th>AB</th>\n",
       "      <td>4.800000e-01</td>\n",
       "    </tr>\n",
       "    <tr>\n",
       "      <th>XB</th>\n",
       "      <td>1.800000e-01</td>\n",
       "    </tr>\n",
       "  </tbody>\n",
       "</table>\n",
       "</div>"
      ],
      "text/plain": [
       "            thres\n",
       "DT   1.700000e-01\n",
       "LR   2.000000e-01\n",
       "RF   2.800000e-01\n",
       "SVM  1.600000e-01\n",
       "MLP  2.800000e-01\n",
       "KN   3.200000e-01\n",
       "GB  -3.087808e-16\n",
       "AB   4.800000e-01\n",
       "XB   1.800000e-01"
      ]
     },
     "execution_count": 7,
     "metadata": {},
     "output_type": "execute_result"
    }
   ],
   "source": [
    "FT = MODELS / 'finetune_2023_7_28.csv'\n",
    "\n",
    "ft_df = pd.read_csv(FT, index_col=0)\n",
    "ft_df"
   ]
  },
  {
   "cell_type": "code",
   "execution_count": 10,
   "metadata": {},
   "outputs": [
    {
     "name": "stderr",
     "output_type": "stream",
     "text": [
      "/home/alek/.local/lib/python3.10/site-packages/sklearn/metrics/_classification.py:1469: UndefinedMetricWarning: Precision and F-score are ill-defined and being set to 0.0 in labels with no predicted samples. Use `zero_division` parameter to control this behavior.\n",
      "  _warn_prf(average, modifier, msg_start, len(result))\n",
      "/home/alek/.local/lib/python3.10/site-packages/sklearn/metrics/_classification.py:1469: UndefinedMetricWarning: Precision and F-score are ill-defined and being set to 0.0 in labels with no predicted samples. Use `zero_division` parameter to control this behavior.\n",
      "  _warn_prf(average, modifier, msg_start, len(result))\n",
      "/home/alek/.local/lib/python3.10/site-packages/sklearn/metrics/_classification.py:1469: UndefinedMetricWarning: Precision and F-score are ill-defined and being set to 0.0 in labels with no predicted samples. Use `zero_division` parameter to control this behavior.\n",
      "  _warn_prf(average, modifier, msg_start, len(result))\n",
      "/home/alek/.local/lib/python3.10/site-packages/sklearn/metrics/_classification.py:1469: UndefinedMetricWarning: Precision and F-score are ill-defined and being set to 0.0 in labels with no predicted samples. Use `zero_division` parameter to control this behavior.\n",
      "  _warn_prf(average, modifier, msg_start, len(result))\n",
      "/home/alek/.local/lib/python3.10/site-packages/sklearn/metrics/_classification.py:1469: UndefinedMetricWarning: Precision and F-score are ill-defined and being set to 0.0 in labels with no predicted samples. Use `zero_division` parameter to control this behavior.\n",
      "  _warn_prf(average, modifier, msg_start, len(result))\n",
      "/home/alek/.local/lib/python3.10/site-packages/sklearn/metrics/_classification.py:1469: UndefinedMetricWarning: Precision and F-score are ill-defined and being set to 0.0 in labels with no predicted samples. Use `zero_division` parameter to control this behavior.\n",
      "  _warn_prf(average, modifier, msg_start, len(result))\n"
     ]
    },
    {
     "data": {
      "text/html": [
       "<div>\n",
       "<style scoped>\n",
       "    .dataframe tbody tr th:only-of-type {\n",
       "        vertical-align: middle;\n",
       "    }\n",
       "\n",
       "    .dataframe tbody tr th {\n",
       "        vertical-align: top;\n",
       "    }\n",
       "\n",
       "    .dataframe thead th {\n",
       "        text-align: right;\n",
       "    }\n",
       "</style>\n",
       "<table border=\"1\" class=\"dataframe\">\n",
       "  <thead>\n",
       "    <tr style=\"text-align: right;\">\n",
       "      <th></th>\n",
       "      <th>npv</th>\n",
       "      <th>sens</th>\n",
       "      <th>spec</th>\n",
       "      <th>ppv</th>\n",
       "      <th>acc</th>\n",
       "      <th>f1</th>\n",
       "    </tr>\n",
       "  </thead>\n",
       "  <tbody>\n",
       "    <tr>\n",
       "      <th>AB</th>\n",
       "      <td>1.0</td>\n",
       "      <td>1.0</td>\n",
       "      <td>0.023121</td>\n",
       "      <td>0.576441</td>\n",
       "      <td>0.580645</td>\n",
       "      <td>0.73132</td>\n",
       "    </tr>\n",
       "    <tr>\n",
       "      <th>LR</th>\n",
       "      <td>0.978947</td>\n",
       "      <td>0.991304</td>\n",
       "      <td>0.537572</td>\n",
       "      <td>0.74026</td>\n",
       "      <td>0.796526</td>\n",
       "      <td>0.847584</td>\n",
       "    </tr>\n",
       "    <tr>\n",
       "      <th>SVM</th>\n",
       "      <td>0.978495</td>\n",
       "      <td>0.991304</td>\n",
       "      <td>0.526012</td>\n",
       "      <td>0.735484</td>\n",
       "      <td>0.791563</td>\n",
       "      <td>0.844444</td>\n",
       "    </tr>\n",
       "    <tr>\n",
       "      <th>XB</th>\n",
       "      <td>0.976744</td>\n",
       "      <td>0.991304</td>\n",
       "      <td>0.485549</td>\n",
       "      <td>0.719243</td>\n",
       "      <td>0.774194</td>\n",
       "      <td>0.833638</td>\n",
       "    </tr>\n",
       "    <tr>\n",
       "      <th>RF</th>\n",
       "      <td>0.963303</td>\n",
       "      <td>0.982609</td>\n",
       "      <td>0.606936</td>\n",
       "      <td>0.768707</td>\n",
       "      <td>0.82134</td>\n",
       "      <td>0.862595</td>\n",
       "    </tr>\n",
       "    <tr>\n",
       "      <th>KN</th>\n",
       "      <td>0.94</td>\n",
       "      <td>0.973913</td>\n",
       "      <td>0.543353</td>\n",
       "      <td>0.739274</td>\n",
       "      <td>0.789082</td>\n",
       "      <td>0.840525</td>\n",
       "    </tr>\n",
       "    <tr>\n",
       "      <th>DT</th>\n",
       "      <td>0.905882</td>\n",
       "      <td>0.965217</td>\n",
       "      <td>0.445087</td>\n",
       "      <td>0.698113</td>\n",
       "      <td>0.741935</td>\n",
       "      <td>0.810219</td>\n",
       "    </tr>\n",
       "    <tr>\n",
       "      <th>MLP</th>\n",
       "      <td>0.0</td>\n",
       "      <td>1.0</td>\n",
       "      <td>0.0</td>\n",
       "      <td>0.57072</td>\n",
       "      <td>0.57072</td>\n",
       "      <td>0.726698</td>\n",
       "    </tr>\n",
       "    <tr>\n",
       "      <th>GB</th>\n",
       "      <td>0.0</td>\n",
       "      <td>1.0</td>\n",
       "      <td>0.0</td>\n",
       "      <td>0.57072</td>\n",
       "      <td>0.57072</td>\n",
       "      <td>0.726698</td>\n",
       "    </tr>\n",
       "  </tbody>\n",
       "</table>\n",
       "</div>"
      ],
      "text/plain": [
       "          npv      sens      spec       ppv       acc        f1\n",
       "AB        1.0       1.0  0.023121  0.576441  0.580645   0.73132\n",
       "LR   0.978947  0.991304  0.537572   0.74026  0.796526  0.847584\n",
       "SVM  0.978495  0.991304  0.526012  0.735484  0.791563  0.844444\n",
       "XB   0.976744  0.991304  0.485549  0.719243  0.774194  0.833638\n",
       "RF   0.963303  0.982609  0.606936  0.768707   0.82134  0.862595\n",
       "KN       0.94  0.973913  0.543353  0.739274  0.789082  0.840525\n",
       "DT   0.905882  0.965217  0.445087  0.698113  0.741935  0.810219\n",
       "MLP       0.0       1.0       0.0   0.57072   0.57072  0.726698\n",
       "GB        0.0       1.0       0.0   0.57072   0.57072  0.726698"
      ]
     },
     "execution_count": 10,
     "metadata": {},
     "output_type": "execute_result"
    }
   ],
   "source": [
    "clf2_df = pd.DataFrame(\n",
    "    columns=['npv', 'sens', 'spec', 'ppv', 'acc', 'f1'],\n",
    "    index=pipelines.keys())\n",
    "\n",
    "for name, model in pipelines.items():\n",
    "    # keep scores for positive outcomes only\n",
    "    y_scores = model.predict_proba(X_test)[:, 1]\n",
    "    t = ft_df.loc[name, 'thres'] - 0.009\n",
    "    y_pred_adj = [1 if y >= t else 0 for y in y_scores]\n",
    "    report = classification_report(y_test,\n",
    "                                   y_pred_adj,\n",
    "                                   labels=[1, 0],\n",
    "                                   output_dict=True)\n",
    "\n",
    "    clf2_df.loc[name] = pd.Series({\n",
    "        'npv' : report['0']['precision'],\n",
    "        'sens': report['1']['recall'],\n",
    "        'spec': report['0']['recall'],\n",
    "        'ppv' : report['1']['precision'],\n",
    "        'acc' : report['accuracy'],\n",
    "        'f1'  : report['1']['f1-score'],                \n",
    "    })\n",
    "\n",
    "clf2_df.sort_values('npv', ascending=False)"
   ]
  },
  {
   "cell_type": "code",
   "execution_count": null,
   "metadata": {},
   "outputs": [],
   "source": []
  }
 ],
 "metadata": {
  "interpreter": {
   "hash": "e7370f93d1d0cde622a1f8e1c04877d8463912d04d973331ad4851f04de6915a"
  },
  "kernelspec": {
   "display_name": "Python 3.10.11 64-bit",
   "language": "python",
   "name": "python3"
  },
  "language_info": {
   "codemirror_mode": {
    "name": "ipython",
    "version": 3
   },
   "file_extension": ".py",
   "mimetype": "text/x-python",
   "name": "python",
   "nbconvert_exporter": "python",
   "pygments_lexer": "ipython3",
   "version": "3.10.11"
  },
  "orig_nbformat": 4
 },
 "nbformat": 4,
 "nbformat_minor": 2
}

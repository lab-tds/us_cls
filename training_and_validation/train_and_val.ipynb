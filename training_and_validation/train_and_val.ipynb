{
 "cells": [
  {
   "cell_type": "markdown",
   "metadata": {},
   "source": [
    "# Training machine learning models"
   ]
  },
  {
   "cell_type": "markdown",
   "metadata": {},
   "source": [
    "## Loading training and validation datasets"
   ]
  },
  {
   "cell_type": "code",
   "execution_count": 1,
   "metadata": {},
   "outputs": [],
   "source": [
    "from pathlib import Path\n",
    "\n",
    "import pandas as pd\n",
    "\n",
    "ROOT = Path(\"__file__\").resolve().parent\n",
    "DATA = ROOT / 'data'\n",
    "TRAIN_AND_VAL_DS = DATA / 'US_2023_JUL_25_complete_cases_reviewd.csv'\n",
    "\n",
    "train_and_val_ds = pd.read_csv(TRAIN_AND_VAL_DS)\n",
    "\n",
    "prospective = train_and_val_ds['study'] == 'prospective'\n",
    "birads_4a = train_and_val_ds['birads'] == '4a'\n",
    "birads_4b = train_and_val_ds['birads'] == '4b'\n",
    "mask = prospective & (birads_4a | birads_4b)\n",
    "\n",
    "train_ds = train_and_val_ds[~mask]\n",
    "val_ds = train_and_val_ds[mask]"
   ]
  },
  {
   "cell_type": "code",
   "execution_count": 2,
   "metadata": {},
   "outputs": [
    {
     "data": {
      "text/plain": [
       "0.8310344827586207"
      ]
     },
     "execution_count": 2,
     "metadata": {},
     "output_type": "execute_result"
    }
   ],
   "source": [
    "import numpy as np\n",
    "from sklearn.svm import SVC\n",
    "from sklearn.pipeline import Pipeline\n",
    "from sklearn.preprocessing import StandardScaler, OneHotEncoder\n",
    "from sklearn.compose import make_column_selector, ColumnTransformer\n",
    "\n",
    "BEST_PARAMS = ROOT / 'bparams' / 'grid_search_dictionary_all_2023_5_24.pkl'\n",
    "\n",
    "bp = pd.read_pickle(BEST_PARAMS)\n",
    "svm_params = bp['SVM'][0][0]\n",
    "clf = Pipeline([\n",
    "    ('ct', ColumnTransformer([\n",
    "        ('scaler', StandardScaler(), ['age', 'size']),\n",
    "        ('encoder', OneHotEncoder(), ['margins']),\n",
    "    ], remainder='passthrough')),\n",
    "    ('svc', SVC(**svm_params)),\n",
    "])\n",
    "\n",
    "features = ['age', 'size', 'palpable', 'vessels', 'ir', 'shape', 'margins', 'orientation']\n",
    "\n",
    "X_train = train_ds[features]\n",
    "y_train = train_ds['result']\n",
    "\n",
    "X_val = val_ds[features]\n",
    "y_val = val_ds['result']\n",
    "clf.fit(X_train, y_train)\n",
    "clf.score(X_val, y_val)"
   ]
  }
 ],
 "metadata": {
  "interpreter": {
   "hash": "e7370f93d1d0cde622a1f8e1c04877d8463912d04d973331ad4851f04de6915a"
  },
  "kernelspec": {
   "display_name": "Python 3.10.11 64-bit",
   "language": "python",
   "name": "python3"
  },
  "language_info": {
   "codemirror_mode": {
    "name": "ipython",
    "version": 3
   },
   "file_extension": ".py",
   "mimetype": "text/x-python",
   "name": "python",
   "nbconvert_exporter": "python",
   "pygments_lexer": "ipython3",
   "version": "3.10.11"
  },
  "orig_nbformat": 4
 },
 "nbformat": 4,
 "nbformat_minor": 2
}

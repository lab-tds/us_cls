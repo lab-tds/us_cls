{
 "cells": [
  {
   "cell_type": "markdown",
   "metadata": {},
   "source": [
    "# Training machine learning models"
   ]
  },
  {
   "cell_type": "markdown",
   "metadata": {},
   "source": [
    "## Loading training and validation datasets"
   ]
  },
  {
   "cell_type": "code",
   "execution_count": 1,
   "metadata": {},
   "outputs": [
    {
     "data": {
      "text/plain": [
       "birads\n",
       "4a    407\n",
       "5     225\n",
       "4b    204\n",
       "4c    184\n",
       "3      44\n",
       "6      18\n",
       "Name: count, dtype: int64"
      ]
     },
     "execution_count": 1,
     "metadata": {},
     "output_type": "execute_result"
    }
   ],
   "source": [
    "from pathlib import Path\n",
    "\n",
    "import pandas as pd\n",
    "from sklearn.model_selection import train_test_split\n",
    "\n",
    "ROOT = Path(\"__file__\").resolve().parent\n",
    "DATA = ROOT / 'data'\n",
    "MODELS = ROOT / 'models'\n",
    "TRAIN_AND_VAL_DS = DATA / 'US_2023_JUL_25_complete_cases_reviewd.csv'\n",
    "TEST_DS = DATA / 'US_2023_AGO_01_all_cases_validationset.csv'\n",
    "\n",
    "train_and_val_ds = pd.read_csv(TRAIN_AND_VAL_DS)\n",
    "test_ds = pd.read_csv(TEST_DS)\n",
    "\n",
    "retrospective = train_and_val_ds['study'] == 'retrospective'\n",
    "prospective = train_and_val_ds['study'] == 'prospective'\n",
    "birads_4a = train_and_val_ds['birads'] == '4a'\n",
    "birads_4b = train_and_val_ds['birads'] == '4b'\n",
    "prospective_4ab = prospective & (birads_4a | birads_4b)\n",
    "\n",
    "extra4_ds, val_ds = train_test_split(train_and_val_ds[prospective_4ab], train_size=0.2, random_state=7)\n",
    "\n",
    "train_ds = pd.concat([train_and_val_ds[retrospective], extra4_ds])\n",
    "\n",
    "train_ds['birads'].value_counts()"
   ]
  },
  {
   "cell_type": "code",
   "execution_count": 2,
   "metadata": {},
   "outputs": [
    {
     "data": {
      "text/plain": [
       "birads\n",
       "4a    170\n",
       "4b     62\n",
       "Name: count, dtype: int64"
      ]
     },
     "execution_count": 2,
     "metadata": {},
     "output_type": "execute_result"
    }
   ],
   "source": [
    "val_ds['birads'].value_counts()"
   ]
  },
  {
   "cell_type": "code",
   "execution_count": 3,
   "metadata": {},
   "outputs": [
    {
     "data": {
      "text/plain": [
       "birads\n",
       "4A    130\n",
       "5      88\n",
       "4C     71\n",
       "6      55\n",
       "4B     55\n",
       "3       4\n",
       "Name: count, dtype: int64"
      ]
     },
     "execution_count": 3,
     "metadata": {},
     "output_type": "execute_result"
    }
   ],
   "source": [
    "test_ds['birads'].value_counts()"
   ]
  },
  {
   "cell_type": "code",
   "execution_count": 4,
   "metadata": {},
   "outputs": [],
   "source": [
    "X_train = train_ds.drop(columns=['birads', 'result', 'study'])\n",
    "y_train = train_ds['result']\n",
    "\n",
    "X_val = val_ds.drop(columns=['birads', 'result', 'study'])\n",
    "y_val = val_ds['result']\n",
    "\n",
    "X_test = test_ds.drop(columns=['pt_id', 'img_id', 'birads', 'result', 'study'])\n",
    "y_test = test_ds['result']"
   ]
  },
  {
   "cell_type": "markdown",
   "metadata": {},
   "source": [
    "## Hyperparameter tuning"
   ]
  },
  {
   "cell_type": "code",
   "execution_count": null,
   "metadata": {},
   "outputs": [],
   "source": [
    "from joblib import dump\n",
    "\n",
    "from sklearn.model_selection import GridSearchCV, RandomizedSearchCV\n",
    "from .models import pipelines, param_grids\n",
    "\n",
    "best_clfs = {}\n",
    "\n",
    "for name, pipe in pipelines.items():\n",
    "    clf = None\n",
    "    if name == 'XB' or name == 'RF':\n",
    "        clf = RandomizedSearchCV(pipe,\n",
    "                                 param_distributions=param_grids[name],\n",
    "                                 n_iter=5,\n",
    "                                 scoring='accuracy',\n",
    "                                 n_jobs=4,\n",
    "                                 cv=10,\n",
    "                                 verbose=3)\n",
    "    else:\n",
    "        clf = GridSearchCV(pipe,\n",
    "                           param_grid=param_grids[name],\n",
    "                           scoring='accuracy',\n",
    "                           cv=10)\n",
    "    clf.fit(X_train, y_train)\n",
    "    best_clfs[name] = (clf.best_params_, clf.score(X_train, y_train))\n",
    "\n",
    "dump(best_clfs, MODELS / 'res_hyperparameter_tuning.joblib')"
   ]
  },
  {
   "cell_type": "markdown",
   "metadata": {},
   "source": [
    "## Selecting between the different models"
   ]
  },
  {
   "cell_type": "code",
   "execution_count": 5,
   "metadata": {},
   "outputs": [
    {
     "name": "stdout",
     "output_type": "stream",
     "text": [
      "Fitting SVM\n",
      "Fitting RF\n",
      "Fitting LR\n",
      "Fitting DT\n",
      "Fitting AB\n",
      "Fitting XB\n"
     ]
    },
    {
     "name": "stderr",
     "output_type": "stream",
     "text": [
      "/home/alek/.local/lib/python3.10/site-packages/xgboost/data.py:520: FutureWarning: is_sparse is deprecated and will be removed in a future version. Check `isinstance(dtype, pd.SparseDtype)` instead.\n",
      "  if is_sparse(data):\n"
     ]
    },
    {
     "name": "stdout",
     "output_type": "stream",
     "text": [
      "Fitting KN\n",
      "Fitting MLP\n",
      "Fitting GB\n"
     ]
    },
    {
     "name": "stderr",
     "output_type": "stream",
     "text": [
      "/home/alek/.local/lib/python3.10/site-packages/sklearn/neural_network/_multilayer_perceptron.py:691: ConvergenceWarning: Stochastic Optimizer: Maximum iterations (200) reached and the optimization hasn't converged yet.\n",
      "  warnings.warn(\n"
     ]
    }
   ],
   "source": [
    "from joblib import load\n",
    "\n",
    "# best_clfs = load(MODELS / 'res_hyperparameter_tuning.joblib')\n",
    "\n",
    "# temporary:\n",
    "import pickle\n",
    "from sklearn.pipeline import Pipeline\n",
    "from models import ct, models\n",
    "\n",
    "best_params = None\n",
    "with open(MODELS / 'grid_search_dictionary_all_2023_5_24.pkl', 'rb') as f:\n",
    "    best_params = pickle.load(f)\n",
    "\n",
    "pipelines = {name: Pipeline([\n",
    "    ('ct', ct),\n",
    "    (name, model(**best_params[name][0][0]))\n",
    "]) for name, model in models.items()}\n",
    "\n",
    "for name, model in pipelines.items():\n",
    "    print('Fitting {}'.format(name))\n",
    "    model.fit(X_train, y_train)"
   ]
  },
  {
   "cell_type": "code",
   "execution_count": 6,
   "metadata": {},
   "outputs": [
    {
     "data": {
      "text/html": [
       "<div>\n",
       "<style scoped>\n",
       "    .dataframe tbody tr th:only-of-type {\n",
       "        vertical-align: middle;\n",
       "    }\n",
       "\n",
       "    .dataframe tbody tr th {\n",
       "        vertical-align: top;\n",
       "    }\n",
       "\n",
       "    .dataframe thead th {\n",
       "        text-align: right;\n",
       "    }\n",
       "</style>\n",
       "<table border=\"1\" class=\"dataframe\">\n",
       "  <thead>\n",
       "    <tr style=\"text-align: right;\">\n",
       "      <th></th>\n",
       "      <th>npv</th>\n",
       "      <th>sens</th>\n",
       "      <th>spec</th>\n",
       "      <th>ppv</th>\n",
       "      <th>acc</th>\n",
       "      <th>f1</th>\n",
       "    </tr>\n",
       "  </thead>\n",
       "  <tbody>\n",
       "    <tr>\n",
       "      <th>DT</th>\n",
       "      <td>0.970149</td>\n",
       "      <td>0.666667</td>\n",
       "      <td>0.911215</td>\n",
       "      <td>0.387097</td>\n",
       "      <td>0.892241</td>\n",
       "      <td>0.489796</td>\n",
       "    </tr>\n",
       "    <tr>\n",
       "      <th>XB</th>\n",
       "      <td>0.969388</td>\n",
       "      <td>0.666667</td>\n",
       "      <td>0.88785</td>\n",
       "      <td>0.333333</td>\n",
       "      <td>0.87069</td>\n",
       "      <td>0.444444</td>\n",
       "    </tr>\n",
       "    <tr>\n",
       "      <th>RF</th>\n",
       "      <td>0.969231</td>\n",
       "      <td>0.666667</td>\n",
       "      <td>0.883178</td>\n",
       "      <td>0.324324</td>\n",
       "      <td>0.866379</td>\n",
       "      <td>0.436364</td>\n",
       "    </tr>\n",
       "    <tr>\n",
       "      <th>AB</th>\n",
       "      <td>0.968912</td>\n",
       "      <td>0.666667</td>\n",
       "      <td>0.873832</td>\n",
       "      <td>0.307692</td>\n",
       "      <td>0.857759</td>\n",
       "      <td>0.421053</td>\n",
       "    </tr>\n",
       "    <tr>\n",
       "      <th>SVM</th>\n",
       "      <td>0.968586</td>\n",
       "      <td>0.666667</td>\n",
       "      <td>0.864486</td>\n",
       "      <td>0.292683</td>\n",
       "      <td>0.849138</td>\n",
       "      <td>0.40678</td>\n",
       "    </tr>\n",
       "    <tr>\n",
       "      <th>KN</th>\n",
       "      <td>0.967742</td>\n",
       "      <td>0.666667</td>\n",
       "      <td>0.841121</td>\n",
       "      <td>0.26087</td>\n",
       "      <td>0.827586</td>\n",
       "      <td>0.375</td>\n",
       "    </tr>\n",
       "    <tr>\n",
       "      <th>MLP</th>\n",
       "      <td>0.965686</td>\n",
       "      <td>0.611111</td>\n",
       "      <td>0.920561</td>\n",
       "      <td>0.392857</td>\n",
       "      <td>0.896552</td>\n",
       "      <td>0.478261</td>\n",
       "    </tr>\n",
       "    <tr>\n",
       "      <th>GB</th>\n",
       "      <td>0.963918</td>\n",
       "      <td>0.611111</td>\n",
       "      <td>0.873832</td>\n",
       "      <td>0.289474</td>\n",
       "      <td>0.853448</td>\n",
       "      <td>0.392857</td>\n",
       "    </tr>\n",
       "    <tr>\n",
       "      <th>LR</th>\n",
       "      <td>0.963542</td>\n",
       "      <td>0.611111</td>\n",
       "      <td>0.864486</td>\n",
       "      <td>0.275</td>\n",
       "      <td>0.844828</td>\n",
       "      <td>0.37931</td>\n",
       "    </tr>\n",
       "  </tbody>\n",
       "</table>\n",
       "</div>"
      ],
      "text/plain": [
       "          npv      sens      spec       ppv       acc        f1\n",
       "DT   0.970149  0.666667  0.911215  0.387097  0.892241  0.489796\n",
       "XB   0.969388  0.666667   0.88785  0.333333   0.87069  0.444444\n",
       "RF   0.969231  0.666667  0.883178  0.324324  0.866379  0.436364\n",
       "AB   0.968912  0.666667  0.873832  0.307692  0.857759  0.421053\n",
       "SVM  0.968586  0.666667  0.864486  0.292683  0.849138   0.40678\n",
       "KN   0.967742  0.666667  0.841121   0.26087  0.827586     0.375\n",
       "MLP  0.965686  0.611111  0.920561  0.392857  0.896552  0.478261\n",
       "GB   0.963918  0.611111  0.873832  0.289474  0.853448  0.392857\n",
       "LR   0.963542  0.611111  0.864486     0.275  0.844828   0.37931"
      ]
     },
     "execution_count": 6,
     "metadata": {},
     "output_type": "execute_result"
    }
   ],
   "source": [
    "from sklearn.metrics import classification_report\n",
    "\n",
    "clf_df = pd.DataFrame(\n",
    "    columns=['npv', 'sens', 'spec', 'ppv', 'acc', 'f1'], index=pipelines.keys())\n",
    "\n",
    "for name, model in pipelines.items():\n",
    "    report = classification_report(y_val,\n",
    "                                   model.predict(X_val),\n",
    "                                   labels=[1, 0],\n",
    "                                   output_dict=True)\n",
    "    clf_df.loc[name] = {\n",
    "        'npv' : report['0']['precision'],\n",
    "        'sens': report['1']['recall'],\n",
    "        'spec': report['0']['recall'],\n",
    "        'ppv' : report['1']['precision'],\n",
    "        'acc' : report['accuracy'],\n",
    "        'f1'  : report['1']['f1-score'],\n",
    "    }\n",
    "\n",
    "clf_df.sort_values('npv', ascending=False)"
   ]
  },
  {
   "cell_type": "code",
   "execution_count": 105,
   "metadata": {},
   "outputs": [
    {
     "data": {
      "text/plain": [
       "1323.201046549369"
      ]
     },
     "execution_count": 105,
     "metadata": {},
     "output_type": "execute_result"
    }
   ],
   "source": [
    "import numpy as np\n",
    "from sklearn.metrics.pairwise import rbf_kernel\n",
    "\n",
    "ct = pipelines['SVM']['ct']\n",
    "svc = pipelines['SVM']['SVM']\n",
    "X = ct.transform(X_train)[svc.support_]\n",
    "alpha = svc.dual_coef_.ravel()\n",
    "gamma = svc.gamma\n",
    "K = rbf_kernel(X, gamma=gamma)\n",
    "Lambda = np.sqrt(np.dot(alpha, K@alpha))\n",
    "\n",
    "def lower_bound(m, delta, npv):\n",
    "    return npv - Lambda*np.sqrt(1.0/m) - 6*np.sqrt(np.log(2 / delta) / (2*m))\n",
    "\n",
    "# lower_bound(120000, 0.1)\n",
    "# np.dot(np.ones(331), alpha)\n",
    "0.5*np.dot(alpha, K@alpha)"
   ]
  },
  {
   "cell_type": "code",
   "execution_count": 51,
   "metadata": {},
   "outputs": [
    {
     "name": "stdout",
     "output_type": "stream",
     "text": [
      "     pcost       dcost       gap    pres   dres\n",
      " 0:  4.9721e+03 -4.2599e+04  5e+04  5e-14  2e-14\n",
      " 1:  7.2139e+02 -1.1557e+03  2e+03  3e-14  4e-14\n",
      " 2:  9.8016e+01 -1.2036e+02  2e+02  1e-14  2e-14\n",
      " 3:  1.2077e+01 -1.9662e+01  3e+01  2e-15  6e-15\n",
      " 4:  8.0911e-01 -3.6521e+00  4e+00  2e-15  2e-15\n",
      " 5: -4.2853e-01 -9.9426e-01  6e-01  8e-16  7e-16\n",
      " 6: -5.0331e-01 -5.3936e-01  4e-02  2e-16  3e-16\n",
      " 7: -5.0404e-01 -5.1231e-01  8e-03  2e-16  2e-16\n",
      " 8: -5.0642e-01 -5.1471e-01  8e-03  3e-16  2e-16\n",
      " 9: -5.0883e-01 -5.1129e-01  2e-03  2e-16  2e-16\n",
      "10: -5.0976e-01 -5.1003e-01  3e-04  2e-16  2e-16\n",
      "11: -5.0985e-01 -5.0998e-01  1e-04  4e-16  2e-16\n",
      "12: -5.0991e-01 -5.0991e-01  2e-06  2e-16  3e-16\n",
      "13: -5.0991e-01 -5.0991e-01  2e-08  4e-16  3e-16\n",
      "Optimal solution found.\n"
     ]
    }
   ],
   "source": [
    "from cvxopt import matrix, solvers\n",
    "\n",
    "Q = matrix(K)\n",
    "p = matrix(-np.ones(331).astype('float'))\n",
    "A = matrix((y_train.to_numpy()[svc.support_] * 2 - 1).reshape(1, 331).astype('float'))\n",
    "b = matrix([0.0])\n",
    "G = matrix(np.vstack([np.eye(331), -np.eye(331)]).astype('float'))\n",
    "h = matrix(np.concatenate([svc.C * np.ones(331), np.zeros(331)]).astype('float'))\n",
    "sol = solvers.qp(Q, p, G, h, A, b)\n"
   ]
  },
  {
   "cell_type": "code",
   "execution_count": 56,
   "metadata": {},
   "outputs": [
    {
     "data": {
      "text/plain": [
       "1.0098588288423476"
      ]
     },
     "execution_count": 56,
     "metadata": {},
     "output_type": "execute_result"
    }
   ],
   "source": [
    "alpha = np.array(sol['x']).ravel()\n",
    "np.sqrt(np.dot(alpha, K@alpha))"
   ]
  },
  {
   "cell_type": "code",
   "execution_count": 120,
   "metadata": {},
   "outputs": [
    {
     "name": "stdout",
     "output_type": "stream",
     "text": [
      "0.9224137931034483\n",
      "0.7145779059603694\n"
     ]
    },
    {
     "name": "stderr",
     "output_type": "stream",
     "text": [
      "/home/alek/.local/lib/python3.10/site-packages/sklearn/metrics/_classification.py:1469: UndefinedMetricWarning: Precision and F-score are ill-defined and being set to 0.0 in labels with no predicted samples. Use `zero_division` parameter to control this behavior.\n",
      "  _warn_prf(average, modifier, msg_start, len(result))\n",
      "/home/alek/.local/lib/python3.10/site-packages/sklearn/metrics/_classification.py:1469: UndefinedMetricWarning: Precision and F-score are ill-defined and being set to 0.0 in labels with no predicted samples. Use `zero_division` parameter to control this behavior.\n",
      "  _warn_prf(average, modifier, msg_start, len(result))\n",
      "/home/alek/.local/lib/python3.10/site-packages/sklearn/metrics/_classification.py:1469: UndefinedMetricWarning: Precision and F-score are ill-defined and being set to 0.0 in labels with no predicted samples. Use `zero_division` parameter to control this behavior.\n",
      "  _warn_prf(average, modifier, msg_start, len(result))\n"
     ]
    },
    {
     "data": {
      "text/plain": [
       "{'precision': 0.0, 'recall': 0.0, 'f1-score': 0.0, 'support': 18.0}"
      ]
     },
     "execution_count": 120,
     "metadata": {},
     "output_type": "execute_result"
    }
   ],
   "source": [
    "from sklearn.svm import SVC\n",
    "\n",
    "clf = SVC(C = 0.0001, kernel='rbf', gamma=0.0001, tol=0.00001)\n",
    "clf.fit(X_train, 2*y_train-1)\n",
    "print(clf.score(X_val, 2*y_val-1))\n",
    "\n",
    "alpha = clf.dual_coef_.ravel()\n",
    "gamma = clf.gamma\n",
    "X = X_train.to_numpy()[clf.support_]\n",
    "K = rbf_kernel(X, gamma=gamma)\n",
    "Lambda = np.sqrt(np.dot(alpha, K@alpha))\n",
    "\n",
    "print(lower_bound(m=X_train.shape[0], delta=0.15, npv=0.9224))\n",
    "classification_report(2*y_val - 1, clf.predict(X_val), output_dict=True)['-1']\n",
    "# classification_report(2*y_train - 1, clf.predict(X_train), output_dict=True)['-1']"
   ]
  }
 ],
 "metadata": {
  "interpreter": {
   "hash": "e7370f93d1d0cde622a1f8e1c04877d8463912d04d973331ad4851f04de6915a"
  },
  "kernelspec": {
   "display_name": "Python 3.10.11 64-bit",
   "language": "python",
   "name": "python3"
  },
  "language_info": {
   "codemirror_mode": {
    "name": "ipython",
    "version": 3
   },
   "file_extension": ".py",
   "mimetype": "text/x-python",
   "name": "python",
   "nbconvert_exporter": "python",
   "pygments_lexer": "ipython3",
   "version": "3.10.11"
  },
  "orig_nbformat": 4
 },
 "nbformat": 4,
 "nbformat_minor": 2
}
